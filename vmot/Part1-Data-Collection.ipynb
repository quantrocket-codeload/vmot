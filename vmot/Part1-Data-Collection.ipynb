{
 "cells": [
  {
   "cell_type": "markdown",
   "metadata": {},
   "source": [
    "<a href=\"https://www.quantrocket.com\"><img alt=\"QuantRocket logo\" src=\"https://www.quantrocket.com/assets/img/notebook-header-logo.png\"></a><br>\n",
    "<a href=\"https://www.quantrocket.com/disclaimer/\">Disclaimer</a>"
   ]
  },
  {
   "cell_type": "markdown",
   "metadata": {},
   "source": [
    "# Data Collection\n",
    "\n",
    "The VMOT trend strategy hedges market risk by shorting the US market under certain conditions. We'll use SPY for this purpose, from the Sharadar ETF dataset."
   ]
  },
  {
   "cell_type": "markdown",
   "metadata": {},
   "source": [
    "## Collect Sharadar ETF prices\n",
    "\n",
    "First, create a database for Sharadar ETF prices:"
   ]
  },
  {
   "cell_type": "code",
   "execution_count": 1,
   "metadata": {},
   "outputs": [
    {
     "data": {
      "text/plain": [
       "{'status': 'successfully created quantrocket.v2.history.sharadar-us-etf-1d.sqlite'}"
      ]
     },
     "execution_count": 1,
     "metadata": {},
     "output_type": "execute_result"
    }
   ],
   "source": [
    "from quantrocket.history import create_sharadar_db\n",
    "create_sharadar_db(\"sharadar-us-etf-1d\", sec_type=\"ETF\", country=\"US\")"
   ]
  },
  {
   "cell_type": "markdown",
   "metadata": {},
   "source": [
    "Then collect the data:"
   ]
  },
  {
   "cell_type": "code",
   "execution_count": 2,
   "metadata": {},
   "outputs": [
    {
     "data": {
      "text/plain": [
       "{'status': 'the historical data will be collected asynchronously'}"
      ]
     },
     "execution_count": 2,
     "metadata": {},
     "output_type": "execute_result"
    }
   ],
   "source": [
    "from quantrocket.history import collect_history\n",
    "collect_history(\"sharadar-us-etf-1d\")"
   ]
  },
  {
   "cell_type": "markdown",
   "metadata": {},
   "source": [
    "This runs in the background, monitor flightlog for a completion message:\n",
    "\n",
    "```\n",
    "quantrocket.history: INFO [sharadar-us-etf-1d] Collecting Sharadar US ETF prices\n",
    "quantrocket.history: INFO [sharadar-us-etf-1d] Collecting updated Sharadar US securities listings\n",
    "quantrocket.history: INFO [sharadar-us-etf-1d] Finished collecting Sharadar US ETF prices\n",
    "```"
   ]
  },
  {
   "cell_type": "markdown",
   "metadata": {},
   "source": [
    "## Lookup SPY Sid\n",
    "\n",
    "Next, look up the sid for SPY. This will be used in the trend strategy. Looking up the sid requires a bit less typing with the CLI: "
   ]
  },
  {
   "cell_type": "code",
   "execution_count": 3,
   "metadata": {},
   "outputs": [
    {
     "name": "stdout",
     "output_type": "stream",
     "text": [
      "| Sid            | Symbol | Exchange |\n",
      "| -------------- | ------ | -------- |\n",
      "| FIBBG000BDTBL9 | SPY    | ARCX     |\n"
     ]
    }
   ],
   "source": [
    "!quantrocket master get -s SPY -t ETF --fields Sid Symbol Exchange | csvlook "
   ]
  },
  {
   "cell_type": "markdown",
   "metadata": {},
   "source": [
    "***\n",
    "\n",
    "## *Next Up*\n",
    "\n",
    "Part 2: [Trend Strategy](Part2-Trend-Strategy.ipynb)"
   ]
  }
 ],
 "metadata": {
  "kernelspec": {
   "display_name": "Python 3",
   "language": "python",
   "name": "python3"
  },
  "language_info": {
   "codemirror_mode": {
    "name": "ipython",
    "version": 3
   },
   "file_extension": ".py",
   "mimetype": "text/x-python",
   "name": "python",
   "nbconvert_exporter": "python",
   "pygments_lexer": "ipython3",
   "version": "3.7.6"
  }
 },
 "nbformat": 4,
 "nbformat_minor": 4
}
