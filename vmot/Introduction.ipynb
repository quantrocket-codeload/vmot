{
 "cells": [
  {
   "cell_type": "markdown",
   "metadata": {},
   "source": [
    "<a href=\"https://www.quantrocket.com\"><img alt=\"QuantRocket logo\" src=\"https://www.quantrocket.com/assets/img/notebook-header-logo.png\"></a><br>\n",
    "<a href=\"https://www.quantrocket.com/disclaimer/\">Disclaimer</a>"
   ]
  },
  {
   "cell_type": "markdown",
   "metadata": {},
   "source": [
    "# VMOT: Value Momentum Trend\n",
    "\n",
    "This tutorial backtests a portfolio of value, momentum, and trend strategies modeled on [Alpha Architect's VMOT ETF](https://etfsite.alphaarchitect.com/vmot/). VMOT can be run as three separate strategies deployed in tandem, or as a single combined strategy. Both approaches are demonstrated.\n",
    "\n",
    "## VMOT as 3 separate strategies\n",
    "In this variant, the value and momentum strategies are provided by separate tutorials (see prerequisites). This tutorial provides the trend strategy and runs the value, momentum, and trend strategies in tandem to replicate VMOT. The momentum and value portfolios are computed separately from each other, and hedging is achieved by shorting a broad-based index ETF (SPY) rather than by selling the momentum and value positions. This approach most closely mirrors the Alpha Architect VMOT white paper. \n",
    "\n",
    "## VMOT as 1 combined strategy\n",
    "In this variant, the value, momentum, and trend components are combined into a single strategy. The value screen is computed first, then the momemtum screen is applied to the results of the value screen. When the trend of SPY is down, the portfolio is partially or fully liquidated.  "
   ]
  },
  {
   "cell_type": "markdown",
   "metadata": {},
   "source": [
    "## Prerequisites\n",
    "\n",
    "This tutorial assumes you have already completed the QVAL (value) and QMOM (momentum) tutorials:\n",
    "\n",
    "* QVAL: `quantrocket codeload clone 'qval'`\n",
    "* QMOM: `quantrocket codeload clone 'qmom'`"
   ]
  },
  {
   "cell_type": "markdown",
   "metadata": {},
   "source": [
    "## Contents\n",
    "\n",
    "* Part 1: [Data Collection](Part1-Data-Collection.ipynb)\n",
    "* Part 2: [Trend Strategy](Part2-Trend-Strategy.ipynb)\n",
    "* Part 3: [VMOT Backtest](Part3-VMOT-Backtest.ipynb)\n",
    "* Part 4: [VMOT Single Strategy Backtest](Part4-VMOT-Single-Strategy-Backtest.ipynb)"
   ]
  }
 ],
 "metadata": {
  "kernelspec": {
   "display_name": "Python 3.9",
   "language": "python",
   "name": "python3"
  },
  "language_info": {
   "codemirror_mode": {
    "name": "ipython",
    "version": 3
   },
   "file_extension": ".py",
   "mimetype": "text/x-python",
   "name": "python",
   "nbconvert_exporter": "python",
   "pygments_lexer": "ipython3",
   "version": "3.9.7"
  }
 },
 "nbformat": 4,
 "nbformat_minor": 4
}
